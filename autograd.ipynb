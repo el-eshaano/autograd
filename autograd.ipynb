{
 "cells": [
  {
   "cell_type": "code",
   "execution_count": 26,
   "id": "b2f353d5-dbd2-44f0-ab48-95e7099f1d53",
   "metadata": {},
   "outputs": [],
   "source": [
    "class Scalar:\n",
    "\n",
    "    def __init__(self, data, prev_scalars=(), op=''):\n",
    "        self.data = data\n",
    "        self._prev_scalars = set(prev_scalars)\n",
    "        \n",
    "        self._op = op\n",
    "        self.grad = 0\n",
    "        self._backward = lambda: None\n",
    "        \n",
    "    def backward(self):\n",
    "        \n",
    "        def build_topo_order(scalar, topo_order):\n",
    "            for prev_scalar in scalar._prev_scalars:\n",
    "                if prev_scalar not in topo_order:\n",
    "                    build_topo_order(prev_scalar, topo_order)\n",
    "            topo_order.append(scalar)\n",
    "            \n",
    "        topo_order = []\n",
    "        build_topo_order(self, topo_order)\n",
    "        \n",
    "        self.grad = 1\n",
    "        for scalar in reversed(topo_order):\n",
    "            scalar._backward()\n",
    "        \n",
    "    def __repr__(self):\n",
    "        return f'Scalar[{self.data}, {self._op}]'\n",
    "        \n",
    "    def __add__(self, other):\n",
    "        other = other if isinstance(other, Scalar) else Scalar(other)\n",
    "        out = Scalar(self.data + other.data, (self, other), '<Add>')\n",
    "        \n",
    "        def backward():\n",
    "            self.grad += out.grad\n",
    "            other.grad += out.grad\n",
    "        out._backward = backward\n",
    "\n",
    "        return out\n",
    "    \n",
    "    def __mul__(self, other):\n",
    "        other = other if isinstance(other, Scalar) else Scalar(other)\n",
    "        out = Scalar(self.data * other.data, (self, other), '<Mul>')\n",
    "        \n",
    "        def backward():\n",
    "            self.grad += out.grad * other.data\n",
    "            other.grad += out.grad * self.data\n",
    "        out._backward = backward\n",
    "\n",
    "        return out\n",
    "    \n",
    "    def __pow__(self, other):\n",
    "        assert isinstance(other, (int, float)), \"only supporting int/float powers for now\"\n",
    "        out = Scalar(self.data ** other, (self,), f'<Pow{other}>')\n",
    "        \n",
    "        def backward():\n",
    "            self.grad += out.grad * other * self.data**(other-1)\n",
    "            \n",
    "        out._backward = backward\n",
    "        \n",
    "        return out\n",
    "    \n",
    "    def __neg__(self):\n",
    "        return self * -1\n",
    "    \n",
    "    def __radd__(self, other):\n",
    "        return self + other\n",
    "    \n",
    "    def __sub__(self, other):\n",
    "        return self + (-other)\n",
    "    \n",
    "    def __rsub__(self, other):\n",
    "        return other + (-self)\n",
    "    \n",
    "    def __rmul__(self, other):\n",
    "        return self * other\n",
    "    \n",
    "    def __truediv__(self, other):\n",
    "        return self * other**-1\n",
    "    \n",
    "    def __rtruediv__(self, other):\n",
    "        return other * self**-1\n",
    "        "
   ]
  },
  {
   "cell_type": "code",
   "execution_count": 27,
   "id": "8aab7d2e",
   "metadata": {},
   "outputs": [
    {
     "name": "stdout",
     "output_type": "stream",
     "text": [
      "Scalar[329, <Add>]\n",
      "64 249\n"
     ]
    }
   ],
   "source": [
    "a = Scalar(2)\n",
    "b = Scalar(3)\n",
    "\n",
    "x = 2*a + 3*b\n",
    "y = 5*(a**2) + 3*(b**3)\n",
    "\n",
    "z = 2*x + 3*y\n",
    "print(z)\n",
    "\n",
    "z.backward()\n",
    "\n",
    "print(a.grad, b.grad)"
   ]
  },
  {
   "cell_type": "code",
   "execution_count": 29,
   "id": "f3ed2bbb",
   "metadata": {},
   "outputs": [],
   "source": [
    "class Tensor:\n",
    "    \n",
    "    def __init__(self, data, shape=None, prev_tensors=(), op=''):\n",
    "        self.data = data\n",
    "        \n",
    "        if shape is None:\n",
    "            self.shape = (len(data), )\n",
    "        else:\n",
    "            self.shape = shape\n",
    "        \n",
    "        self._prev_tensors = set(prev_tensors)\n",
    "        \n",
    "        self._op = op\n",
    "        self.grad = 0\n",
    "        self._backward = lambda: None\n",
    "                \n",
    "    def __repr__(self):\n",
    "        return f'Tensor[{self.data}, {self._op}]'\n",
    "    \n",
    "    def get_shape(self):\n",
    "        return f'Tensorshape{self.shape}'\n",
    "    \n",
    "    def broadcast(self, desired_shape):\n",
    "        \n",
    "        if self.shape == desired_shape:\n",
    "            return self\n",
    "        \n",
    "        assert len(self.shape) <= len(desired_shape), \"can only broadcast to higher dimensions\"\n",
    "        \n",
    "        new_data = self.data\n",
    "        new_shape = self.shape\n",
    "        \n",
    "        for i in range(len(desired_shape) - len(self.shape)):\n",
    "            new_data = [new_data]\n",
    "            new_shape = (1,) + new_shape\n",
    "            \n",
    "        for i in range(len(desired_shape) - len(self.shape)):\n",
    "            new_data = new_data[0]\n",
    "            new_shape = new_shape[1:]\n",
    "            \n",
    "        for i in range(len(desired_shape)):\n",
    "            if new_shape[i] == 1 and desired_shape[i] != 1:\n",
    "                new_data = [new_data] * desired_shape[i]\n",
    "                new_shape = (desired_shape[i], )\n",
    "                \n",
    "        return Tensor(new_data, desired_shape, (self,), '<Broadcast>')"
   ]
  },
  {
   "cell_type": "code",
   "execution_count": 30,
   "id": "d47f02dc",
   "metadata": {},
   "outputs": [
    {
     "ename": "IndexError",
     "evalue": "tuple index out of range",
     "output_type": "error",
     "traceback": [
      "\u001b[0;31m---------------------------------------------------------------------------\u001b[0m",
      "\u001b[0;31mIndexError\u001b[0m                                Traceback (most recent call last)",
      "Cell \u001b[0;32mIn[30], line 4\u001b[0m\n\u001b[1;32m      1\u001b[0m a \u001b[38;5;241m=\u001b[39m Tensor([\u001b[38;5;241m1\u001b[39m, \u001b[38;5;241m2\u001b[39m, \u001b[38;5;241m3\u001b[39m])\n\u001b[1;32m      2\u001b[0m b \u001b[38;5;241m=\u001b[39m Tensor([\u001b[38;5;241m4\u001b[39m, \u001b[38;5;241m5\u001b[39m, \u001b[38;5;241m6\u001b[39m])\n\u001b[0;32m----> 4\u001b[0m a \u001b[38;5;241m=\u001b[39m \u001b[43ma\u001b[49m\u001b[38;5;241;43m.\u001b[39;49m\u001b[43mbroadcast\u001b[49m\u001b[43m(\u001b[49m\u001b[43m(\u001b[49m\u001b[38;5;241;43m3\u001b[39;49m\u001b[43m,\u001b[49m\u001b[43m \u001b[49m\u001b[38;5;241;43m3\u001b[39;49m\u001b[43m)\u001b[49m\u001b[43m)\u001b[49m\n\u001b[1;32m      5\u001b[0m \u001b[38;5;28mprint\u001b[39m(a)\n",
      "Cell \u001b[0;32mIn[29], line 42\u001b[0m, in \u001b[0;36mTensor.broadcast\u001b[0;34m(self, desired_shape)\u001b[0m\n\u001b[1;32m     39\u001b[0m     new_shape \u001b[38;5;241m=\u001b[39m new_shape[\u001b[38;5;241m1\u001b[39m:]\n\u001b[1;32m     41\u001b[0m \u001b[38;5;28;01mfor\u001b[39;00m i \u001b[38;5;129;01min\u001b[39;00m \u001b[38;5;28mrange\u001b[39m(\u001b[38;5;28mlen\u001b[39m(desired_shape)):\n\u001b[0;32m---> 42\u001b[0m     \u001b[38;5;28;01mif\u001b[39;00m \u001b[43mnew_shape\u001b[49m\u001b[43m[\u001b[49m\u001b[43mi\u001b[49m\u001b[43m]\u001b[49m \u001b[38;5;241m==\u001b[39m \u001b[38;5;241m1\u001b[39m \u001b[38;5;129;01mand\u001b[39;00m desired_shape[i] \u001b[38;5;241m!=\u001b[39m \u001b[38;5;241m1\u001b[39m:\n\u001b[1;32m     43\u001b[0m         new_data \u001b[38;5;241m=\u001b[39m [new_data] \u001b[38;5;241m*\u001b[39m desired_shape[i]\n\u001b[1;32m     44\u001b[0m         new_shape \u001b[38;5;241m=\u001b[39m (desired_shape[i], )\n",
      "\u001b[0;31mIndexError\u001b[0m: tuple index out of range"
     ]
    }
   ],
   "source": [
    "a = Tensor([1, 2, 3])\n",
    "b = Tensor([4, 5, 6])\n",
    "\n",
    "a = a.broadcast((3, 3))\n",
    "print(a)"
   ]
  },
  {
   "cell_type": "code",
   "execution_count": 2,
   "id": "dc230d86",
   "metadata": {},
   "outputs": [],
   "source": [
    "import torch"
   ]
  },
  {
   "cell_type": "code",
   "execution_count": 9,
   "id": "f1fb18c5",
   "metadata": {},
   "outputs": [
    {
     "name": "stdout",
     "output_type": "stream",
     "text": [
      "tensor([34., 64., 94.]) tensor([438., 681., 978.])\n"
     ]
    }
   ],
   "source": [
    "a = torch.Tensor([1, 2, 3]).requires_grad_()\n",
    "b = torch.Tensor([4, 5, 6]).requires_grad_()\n",
    "\n",
    "x = 2*a + 3*b\n",
    "y = 5*(a**2) + 3*(b**3)\n",
    "\n",
    "z = 2*x + 3*y\n",
    "r = z.sum()\n",
    "\n",
    "r.backward()\n",
    "\n",
    "print(a.grad, b.grad)"
   ]
  },
  {
   "cell_type": "code",
   "execution_count": null,
   "id": "8185021e",
   "metadata": {},
   "outputs": [],
   "source": []
  }
 ],
 "metadata": {
  "kernelspec": {
   "display_name": "Python 3 (ipykernel)",
   "language": "python",
   "name": "python3"
  },
  "language_info": {
   "codemirror_mode": {
    "name": "ipython",
    "version": 3
   },
   "file_extension": ".py",
   "mimetype": "text/x-python",
   "name": "python",
   "nbconvert_exporter": "python",
   "pygments_lexer": "ipython3",
   "version": "3.10.12"
  }
 },
 "nbformat": 4,
 "nbformat_minor": 5
}
