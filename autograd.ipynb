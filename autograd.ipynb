{
 "cells": [
  {
   "cell_type": "code",
   "execution_count": 3,
   "id": "7016e1e8-c638-4d3e-a423-2ff8038a6ef6",
   "metadata": {},
   "outputs": [],
   "source": [
    "import numpy as np"
   ]
  },
  {
   "cell_type": "code",
   "execution_count": 23,
   "id": "b2f353d5-dbd2-44f0-ab48-95e7099f1d53",
   "metadata": {},
   "outputs": [],
   "source": [
    "class Scalar:\n",
    "\n",
    "    def __init__(self, data, prev_scalars=(), op=''):\n",
    "        self.data = data\n",
    "        self._prev_scalars = set(prev_scalars)\n",
    "        \n",
    "        self._op = op\n",
    "        self.grad = 0\n",
    "        self._backward = lambda: None\n",
    "        \n",
    "    def backward(self):\n",
    "        \n",
    "        def build_topo_order(scalar, topo_order):\n",
    "            for prev_scalar in scalar._prev_scalars:\n",
    "                if prev_scalar not in topo_order:\n",
    "                    build_topo_order(prev_scalar, topo_order)\n",
    "            topo_order.append(scalar)\n",
    "            \n",
    "        topo_order = []\n",
    "        build_topo_order(self, topo_order)\n",
    "        \n",
    "        self.grad = 1\n",
    "        for scalar in reversed(topo_order):\n",
    "            scalar._backward()\n",
    "        \n",
    "    def __repr__(self):\n",
    "        return f'Scalar[{self.data}, {self._op}]'\n",
    "        \n",
    "    def __add__(self, other):\n",
    "        other = other if isinstance(other, Scalar) else Scalar(other)\n",
    "        out = Scalar(self.data + other.data, (self, other), '<Add>')\n",
    "        \n",
    "        def backward():\n",
    "            self.grad += out.grad\n",
    "            other.grad += out.grad\n",
    "        out._backward = backward\n",
    "\n",
    "        return out\n",
    "    \n",
    "    def __mul__(self, other):\n",
    "        other = other if isinstance(other, Scalar) else Scalar(other)\n",
    "        out = Scalar(self.data * other.data, (self, other), '<Mul>')\n",
    "        \n",
    "        def backward():\n",
    "            self.grad += out.grad * other.data\n",
    "            other.grad += out.grad * self.data\n",
    "        out._backward = backward\n",
    "\n",
    "        return out\n",
    "    \n",
    "    def __pow__(self, other):\n",
    "        assert isinstance(other, (int, float)), \"only supporting int/float powers for now\"\n",
    "        out = Scalar(self.data ** other, (self,), f'<Pow{other}>')\n",
    "        \n",
    "        def backward():\n",
    "            self.grad += out.grad * other * self.data**(other-1)\n",
    "            \n",
    "        out._backward = backward\n",
    "        \n",
    "        return out\n",
    "    \n",
    "    def __neg__(self):\n",
    "        return self * -1\n",
    "    \n",
    "    def __radd__(self, other):\n",
    "        return self + other\n",
    "    \n",
    "    def __sub__(self, other):\n",
    "        return self + (-other)\n",
    "    \n",
    "    def __rsub__(self, other):\n",
    "        return other + (-self)\n",
    "    \n",
    "    def __rmul__(self, other):\n",
    "        return self * other\n",
    "    \n",
    "    def __truediv__(self, other):\n",
    "        return self * other**-1\n",
    "    \n",
    "    def __rtruediv__(self, other):\n",
    "        return other * self**-1\n",
    "        "
   ]
  },
  {
   "cell_type": "code",
   "execution_count": 25,
   "id": "8aab7d2e",
   "metadata": {},
   "outputs": [
    {
     "name": "stdout",
     "output_type": "stream",
     "text": [
      "Scalar[329, <Add>]\n",
      "64 249\n"
     ]
    }
   ],
   "source": [
    "a = Scalar(2)\n",
    "b = Scalar(3)\n",
    "\n",
    "x = 2*a + 3*b\n",
    "y = 5*(a**2) + 3*(b**3)\n",
    "\n",
    "z = 2*x + 3*y\n",
    "print(z)\n",
    "\n",
    "z.backward()\n",
    "\n",
    "print(a.grad, b.grad)"
   ]
  },
  {
   "cell_type": "code",
   "execution_count": null,
   "id": "f3ed2bbb",
   "metadata": {},
   "outputs": [],
   "source": []
  }
 ],
 "metadata": {
  "kernelspec": {
   "display_name": "Python 3 (ipykernel)",
   "language": "python",
   "name": "python3"
  },
  "language_info": {
   "codemirror_mode": {
    "name": "ipython",
    "version": 3
   },
   "file_extension": ".py",
   "mimetype": "text/x-python",
   "name": "python",
   "nbconvert_exporter": "python",
   "pygments_lexer": "ipython3",
   "version": "3.10.12"
  }
 },
 "nbformat": 4,
 "nbformat_minor": 5
}
