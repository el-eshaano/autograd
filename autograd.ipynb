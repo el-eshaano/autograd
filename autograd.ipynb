{
  "cells": [
    {
      "cell_type": "markdown",
      "metadata": {
        "id": "view-in-github",
        "colab_type": "text"
      },
      "source": [
        "<a href=\"https://colab.research.google.com/github/el-eshaano/autograd/blob/main/autograd.ipynb\" target=\"_parent\"><img src=\"https://colab.research.google.com/assets/colab-badge.svg\" alt=\"Open In Colab\"/></a>"
      ]
    },
    {
      "cell_type": "code",
      "execution_count": 50,
      "id": "7016e1e8-c638-4d3e-a423-2ff8038a6ef6",
      "metadata": {
        "id": "7016e1e8-c638-4d3e-a423-2ff8038a6ef6"
      },
      "outputs": [],
      "source": [
        "import numpy as np\n",
        "import math\n",
        "import torch"
      ]
    },
    {
      "cell_type": "code",
      "source": [
        "# Constants\n",
        "exp = Scalar(math.exp(1))"
      ],
      "metadata": {
        "id": "O48kuRJcw-Ta"
      },
      "id": "O48kuRJcw-Ta",
      "execution_count": 32,
      "outputs": []
    },
    {
      "cell_type": "code",
      "source": [
        "def log(x: Scalar) -> Scalar:\n",
        "    x = x if isinstance(x, Scalar) else Scalar(x)\n",
        "    out = Scalar(math.log(x.data), (x, ), op=\"<Log>\")\n",
        "\n",
        "    def backward():\n",
        "        x.grad += (1 / (x.data)) * out.grad\n",
        "    out._backward = backward\n",
        "\n",
        "    return out\n",
        "\n",
        "def exp(x: Scalar) -> Scalar:\n",
        "    x = x if isinstance(x, Scalar) else Scalar(x)\n",
        "    out = Scalar(math.exp(x.data), (x, ), op=\"<Exp>\")\n",
        "\n",
        "    def backward():\n",
        "        x.grad += out.data * out.grad\n",
        "    out._backward = backward\n",
        "\n",
        "    return out"
      ],
      "metadata": {
        "id": "SOwfovnSvLV-"
      },
      "id": "SOwfovnSvLV-",
      "execution_count": 80,
      "outputs": []
    },
    {
      "cell_type": "code",
      "execution_count": 92,
      "id": "b2f353d5-dbd2-44f0-ab48-95e7099f1d53",
      "metadata": {
        "id": "b2f353d5-dbd2-44f0-ab48-95e7099f1d53"
      },
      "outputs": [],
      "source": [
        "class Scalar:\n",
        "\n",
        "    def __init__(self, data, prev_scalars=(), op=''):\n",
        "        self.data = data\n",
        "        self._prev_scalars = set(prev_scalars)\n",
        "\n",
        "        self._op = op\n",
        "        self.grad = 0\n",
        "        self._backward = lambda: None\n",
        "\n",
        "    def backward(self):\n",
        "\n",
        "        def build_topo_order(scalar, topo_order):\n",
        "            for prev_scalar in scalar._prev_scalars:\n",
        "                if prev_scalar not in topo_order:\n",
        "                    build_topo_order(prev_scalar, topo_order)\n",
        "            topo_order.append(scalar)\n",
        "\n",
        "        topo_order = []\n",
        "        build_topo_order(self, topo_order)\n",
        "\n",
        "        self.grad = 1\n",
        "        for scalar in reversed(topo_order):\n",
        "            scalar._backward()\n",
        "\n",
        "    def __repr__(self):\n",
        "        return f'Scalar{{data: {self.data:.4f}, op: {self._op}}}'\n",
        "\n",
        "    def __str__(self):\n",
        "        return f\"scalar{{{self.data:.4f}}}\"\n",
        "\n",
        "    def __add__(self, other):\n",
        "        other = other if isinstance(other, Scalar) else Scalar(other)\n",
        "        out = Scalar(self.data + other.data, (self, other), '<Add>')\n",
        "\n",
        "        def backward():\n",
        "            self.grad += out.grad\n",
        "            other.grad += out.grad\n",
        "        out._backward = backward\n",
        "\n",
        "        return out\n",
        "\n",
        "    def __mul__(self, other):\n",
        "        other = other if isinstance(other, Scalar) else Scalar(other)\n",
        "        out = Scalar(self.data * other.data, (self, other), '<Mul>')\n",
        "\n",
        "        def backward():\n",
        "            self.grad += out.grad * other.data\n",
        "            other.grad += out.grad * self.data\n",
        "        out._backward = backward\n",
        "\n",
        "        return out\n",
        "\n",
        "    def __pow__(self, other):\n",
        "        other = other if isinstance(other, Scalar) else Scalar(other)\n",
        "        out = Scalar(self.data ** other.data, (self,), f'<Pow{other.data}>')\n",
        "\n",
        "        def backward():\n",
        "            self.grad += out.grad * other * self.data**(other.data-1)\n",
        "            other.grad += out.grad * log(self.data) * out.data\n",
        "\n",
        "        out._backward = backward\n",
        "\n",
        "        return out\n",
        "\n",
        "    def __neg__(self):\n",
        "        return self * -1\n",
        "\n",
        "    def __radd__(self, other):\n",
        "        return self + other\n",
        "\n",
        "    def __sub__(self, other):\n",
        "        return self + (-other)\n",
        "\n",
        "    def __rsub__(self, other):\n",
        "        return other + (-self)\n",
        "\n",
        "    def __rmul__(self, other):\n",
        "        return self * other\n",
        "\n",
        "    def __truediv__(self, other):\n",
        "        return self * other**-1\n",
        "\n",
        "    def __rtruediv__(self, other):\n",
        "        return other * self**-1\n",
        ""
      ]
    },
    {
      "cell_type": "code",
      "execution_count": 93,
      "id": "8aab7d2e",
      "metadata": {
        "id": "8aab7d2e",
        "outputId": "256b945f-5443-4ec7-8010-c431ab14f4fb",
        "colab": {
          "base_uri": "https://localhost:8080/"
        }
      },
      "outputs": [
        {
          "output_type": "stream",
          "name": "stdout",
          "text": [
            "scalar{329.0000}\n",
            "scalar{64.0000} scalar{249.0000}\n"
          ]
        }
      ],
      "source": [
        "a = Scalar(2)\n",
        "b = Scalar(3)\n",
        "\n",
        "x = 2*a + 3*b\n",
        "y = 5*(a**2) + 3*(b**3)\n",
        "\n",
        "z = 2*x + 3*y\n",
        "print(z)\n",
        "\n",
        "z.backward()\n",
        "\n",
        "print(a.grad, b.grad)"
      ]
    },
    {
      "cell_type": "code",
      "source": [
        "myA = Scalar(8)\n",
        "myB = Scalar(2)\n",
        "myOut = log(myA) / log(myB)\n",
        "myOut.backward()\n",
        "\n",
        "\n",
        "\n",
        "torchA = torch.Tensor([8]).requires_grad_()\n",
        "torchB = torch.Tensor([2]).requires_grad_()\n",
        "torchOut = torch.log(torchA) / torch.log(torchB)\n",
        "torchOut.backward()\n",
        "\n",
        "\n",
        "print(myOut)\n",
        "print(torchOut)\n",
        "print('---')\n",
        "print(myA.grad, myB.grad)\n",
        "print(torchA.grad, torchB.grad)"
      ],
      "metadata": {
        "id": "dewuPqv3s9ME",
        "outputId": "ddb54154-0ec2-4756-d666-3cd69ba704a7",
        "colab": {
          "base_uri": "https://localhost:8080/"
        }
      },
      "id": "dewuPqv3s9ME",
      "execution_count": 94,
      "outputs": [
        {
          "output_type": "stream",
          "name": "stdout",
          "text": [
            "scalar{3.0000}\n",
            "tensor([3.], grad_fn=<DivBackward0>)\n",
            "---\n",
            "0.18033688011112042 scalar{-2.1640}\n",
            "tensor([0.1803]) tensor([-2.1640])\n"
          ]
        }
      ]
    },
    {
      "cell_type": "code",
      "source": [
        "ma = Scalar(3)\n",
        "mb = Scalar(2)\n",
        "mo = ma ** mb\n",
        "mo.backward()\n",
        "\n",
        "ta = torch.Tensor([3]).requires_grad_()\n",
        "tb = torch.Tensor([2]).requires_grad_()\n",
        "to = ta ** tb\n",
        "to.backward()\n",
        "\n",
        "print(mo)\n",
        "print(to)\n",
        "print('----')\n",
        "print(ma.grad, mb.grad)\n",
        "print(ta.grad, tb.grad)"
      ],
      "metadata": {
        "id": "8EKCtTFJz2uo",
        "outputId": "c8212938-211e-4e6d-b10c-730a14c9fac1",
        "colab": {
          "base_uri": "https://localhost:8080/"
        }
      },
      "id": "8EKCtTFJz2uo",
      "execution_count": 97,
      "outputs": [
        {
          "output_type": "stream",
          "name": "stdout",
          "text": [
            "scalar{9.0000}\n",
            "tensor([9.], grad_fn=<PowBackward1>)\n",
            "----\n",
            "scalar{6.0000} scalar{9.8875}\n",
            "tensor([6.]) tensor([9.8875])\n"
          ]
        }
      ]
    },
    {
      "cell_type": "code",
      "source": [],
      "metadata": {
        "id": "4nH6ncKQ1n6k"
      },
      "id": "4nH6ncKQ1n6k",
      "execution_count": null,
      "outputs": []
    }
  ],
  "metadata": {
    "kernelspec": {
      "display_name": "Python 3 (ipykernel)",
      "language": "python",
      "name": "python3"
    },
    "language_info": {
      "codemirror_mode": {
        "name": "ipython",
        "version": 3
      },
      "file_extension": ".py",
      "mimetype": "text/x-python",
      "name": "python",
      "nbconvert_exporter": "python",
      "pygments_lexer": "ipython3",
      "version": "3.10.12"
    },
    "colab": {
      "provenance": [],
      "include_colab_link": true
    }
  },
  "nbformat": 4,
  "nbformat_minor": 5
}