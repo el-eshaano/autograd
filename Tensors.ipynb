{
  "nbformat": 4,
  "nbformat_minor": 0,
  "metadata": {
    "colab": {
      "provenance": [],
      "authorship_tag": "ABX9TyOFTTVVLb6a5Nq4w0dEtFGQ",
      "include_colab_link": true
    },
    "kernelspec": {
      "name": "python3",
      "display_name": "Python 3"
    },
    "language_info": {
      "name": "python"
    }
  },
  "cells": [
    {
      "cell_type": "markdown",
      "metadata": {
        "id": "view-in-github",
        "colab_type": "text"
      },
      "source": [
        "<a href=\"https://colab.research.google.com/github/el-eshaano/autograd/blob/main/Tensors.ipynb\" target=\"_parent\"><img src=\"https://colab.research.google.com/assets/colab-badge.svg\" alt=\"Open In Colab\"/></a>"
      ]
    },
    {
      "cell_type": "code",
      "source": [
        "def get_size_of(arr):\n",
        "    def size_of(a):\n",
        "        if not type(a) == list:\n",
        "            return []\n",
        "        return [len(a)] + size_of(a[0])\n",
        "\n",
        "    s = size_of(arr)\n",
        "    return TensorSize(*s)\n",
        ""
      ],
      "metadata": {
        "id": "HmL5LohDVRC8"
      },
      "execution_count": 100,
      "outputs": []
    },
    {
      "cell_type": "code",
      "source": [
        "class BroadcastException(Exception):\n",
        "\n",
        "    def __init__(self, size1, size2):\n",
        "        self.message = f\"{size1} cannot be broadcast to {size2}\"\n",
        "        super().__init__(self.message)"
      ],
      "metadata": {
        "id": "mDsf6Sj6ZZpF"
      },
      "execution_count": 107,
      "outputs": []
    },
    {
      "cell_type": "code",
      "execution_count": 137,
      "metadata": {
        "id": "vh9cxOpOJaEs"
      },
      "outputs": [],
      "source": [
        "class TensorSize():\n",
        "\n",
        "    def __init__(self, *args):\n",
        "        self.shape = list(args)\n",
        "\n",
        "    def __repr__(self):\n",
        "        return f'TensorSize({self.shape})'\n",
        "\n",
        "    def __getitem__(self, idx):\n",
        "        return self.shape[idx]\n",
        "\n",
        "    def __len__(self):\n",
        "        return len(self.shape)\n",
        "\n",
        "    def can_broadcast_to(self, new_size):\n",
        "\n",
        "        # Get just the data\n",
        "        new_size = TensorSize(*new_size) if not isinstance(new_size, TensorSize) else new_size\n",
        "\n",
        "        # Cannot broadcast to lower dimensions\n",
        "        if len(self) > len(new_size):\n",
        "            return False\n",
        "\n",
        "        my_size = self.shape.copy()[::-1]\n",
        "        other_size = new_size.shape.copy()[::-1]\n",
        "\n",
        "        for a, b in zip(my_size, other_size):\n",
        "            if a == 1 or b == 1 or a == b:\n",
        "                continue\n",
        "            else:\n",
        "                return False\n",
        "\n",
        "        return True\n",
        "\n",
        "    def get_broadcasted_size(self, new_size):\n",
        "\n",
        "        my_size = self.shape.copy()[::-1]\n",
        "        other_size = new_size.shape.copy()[::-1]\n",
        "\n",
        "        while len(my_size) < len(other_size):\n",
        "            my_size.append(1)\n",
        "\n",
        "        target_size = []\n",
        "        for a, b in zip(my_size, other_size):\n",
        "            if a == 1:\n",
        "                target_size.append(b)\n",
        "            elif b == 1:\n",
        "                target_size.append(a)\n",
        "            else:\n",
        "                target_size.append(a)\n",
        "\n",
        "        return target_size[::-1]\n",
        "\n",
        "    @staticmethod\n",
        "    def are_broadcast_compatible(T1, T2):\n",
        "        print(T1.can_broadcast_to(T2), T2.can_broadcast_to(T1))\n",
        "        return T1.can_broadcast_to(T2) or T2.can_broadcast_to(T1)\n"
      ]
    },
    {
      "cell_type": "code",
      "source": [
        "class Tensor:\n",
        "\n",
        "    def __init__(self, data):\n",
        "        self.data = data\n",
        "        self.size = get_size_of(data)\n",
        "\n",
        "    def __repr__(self):\n",
        "        return f\"tensor({self.data})\"\n",
        "\n",
        "    def size(self):\n",
        "        return self.size\n",
        "\n",
        "    def broadcast_to(self, new_size):\n",
        "\n",
        "        new_size = TensorSize(*new_size) if not isinstance(new_size, TensorSize) else new_size\n",
        "\n",
        "        if not self.size.can_broadcast_to(new_size):\n",
        "            raise BroadcastException(self.size, new_size)\n",
        "\n",
        "        target_size = self.size.get_broadcasted_size(new_size)\n",
        "        print(target_size)\n",
        "\n",
        "\n",
        "\n"
      ],
      "metadata": {
        "id": "_bZbXLdYJyjd"
      },
      "execution_count": 138,
      "outputs": []
    },
    {
      "cell_type": "code",
      "source": [
        "a = Tensor([[3, 4, 5], [4, 5, 6], [7, 8, 9]])\n",
        "B = Tensor([1, 2])\n",
        "print(B.size)\n",
        "B = B.broadcast_to([3, 2])"
      ],
      "metadata": {
        "colab": {
          "base_uri": "https://localhost:8080/"
        },
        "id": "dwhS6-GSVo5X",
        "outputId": "0bc21009-493c-4277-ea94-3c2e6ba9ab98"
      },
      "execution_count": 139,
      "outputs": [
        {
          "output_type": "stream",
          "name": "stdout",
          "text": [
            "TensorSize([2])\n",
            "[3, 2]\n"
          ]
        }
      ]
    },
    {
      "cell_type": "code",
      "source": [
        "import torch\n",
        "a = torch.ones(2, 2)\n",
        "b = torch.broadcast_to(a, (2, 2, 2))\n",
        "print(b)"
      ],
      "metadata": {
        "colab": {
          "base_uri": "https://localhost:8080/"
        },
        "id": "RVqnRLb4Vvsf",
        "outputId": "73f33e8e-b9a5-4f2f-ce1d-2c10b8be7486"
      },
      "execution_count": 140,
      "outputs": [
        {
          "output_type": "stream",
          "name": "stdout",
          "text": [
            "tensor([[[1., 1.],\n",
            "         [1., 1.]],\n",
            "\n",
            "        [[1., 1.],\n",
            "         [1., 1.]]])\n"
          ]
        }
      ]
    },
    {
      "cell_type": "code",
      "source": [],
      "metadata": {
        "id": "UjjSo_0rc1Fu"
      },
      "execution_count": null,
      "outputs": []
    }
  ]
}