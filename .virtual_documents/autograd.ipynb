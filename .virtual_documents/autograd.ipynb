import numpy as np


class Tensor:

    def __init__(self, array=[]):
        self.array = np.array(array)

    def __add__(self, other):
        return self.array + other.array

    def __sub__(self, other):
        return self.array - other.array

    def __mul__(self, other):
    
