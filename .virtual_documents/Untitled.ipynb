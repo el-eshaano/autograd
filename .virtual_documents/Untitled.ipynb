import torch


3 * torch.Tensor([1, 2, 3])



